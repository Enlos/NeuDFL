{
 "cells": [
  {
   "cell_type": "code",
   "execution_count": 1,
   "metadata": {
    "ExecuteTime": {
     "start_time": "2024-11-23T17:35:08.925216Z"
    },
    "jupyter": {
     "is_executing": true
    },
    "scrolled": true
   },
   "outputs": [
    {
     "name": "stderr",
     "output_type": "stream",
     "text": [
      "2024-11-24 01:39:55.818196: I tensorflow/core/platform/cpu_feature_guard.cc:182] This TensorFlow binary is optimized to use available CPU instructions in performance-critical operations.\n",
      "To enable the following instructions: SSE4.1 SSE4.2 AVX AVX2 FMA, in other operations, rebuild TensorFlow with the appropriate compiler flags.\n"
     ]
    }
   ],
   "source": [
    "#================================= Start of importing required packages and libraries =========================================#\n",
    "from __future__ import print_function\n",
    "%matplotlib inline\n",
    "import numpy as np\n",
    "import torch\n",
    "from experiment_federated import *\n",
    "import random\n",
    "import tensorflow as tf\n",
    "#================================== End of importing required packages and libraries ==========================================#"
   ]
  },
  {
   "cell_type": "code",
   "execution_count": 2,
   "metadata": {},
   "outputs": [],
   "source": [
    "#=============================== Defining global variables ========================#\n",
    "DATASET_NAME = \"CIFAR10\"\n",
    "MODEL_NAME = \"ResNet18\"\n",
    "DD_TYPE = 'NON_IID'\n",
    "ALPHA = 1\n",
    "NUM_PEERS = 20 # \"number of peers: K\" \n",
    "FRAC_PEERS = 1 #'the fraction of peers: C to bel selected in each round'\n",
    "SEED = 7 #fixed seed\n",
    "random.seed(SEED)\n",
    "CRITERION = nn.CrossEntropyLoss()\n",
    "GLOBAL_ROUNDS = 100 #\"number of rounds of federated model training\"\n",
    "LOCAL_EPOCHS = 3 #\"the number of local epochs: E for each peer\"\n",
    "TEST_BATCH_SIZE = 1000\n",
    "LOCAL_BS = 32 #\"local batch size: B for each peer\"\n",
    "LOCAL_LR =  0.01#local learning rate: lr for each peer\n",
    "LOCAL_MOMENTUM = 0.9 #local momentum for each peer\n",
    "NUM_CLASSES = 10 # number of classes in an experiment\n",
    "LABELS_DICT = {'Plane':0,\n",
    "               'Car':1, \n",
    "               'Bird':2, \n",
    "               'Cat':3, \n",
    "               'Deer':4,\n",
    "               'Dog':5, \n",
    "               'Frog':6, \n",
    "               'Horse':7, \n",
    "               'Ship':8, \n",
    "               'Truck':9}\n",
    "\n",
    "#select the device to work with cpu or gpu\n",
    "if torch.cuda.is_available():\n",
    "    DEVICE = \"cuda\"\n",
    "else:\n",
    "    DEVICE = \"cpu\"\n",
    "DEVICE = torch.device(DEVICE)\n",
    "SOURCE_CLASS = 9 # the source class\n",
    "TARGET_CLASS = 1 # the target class \n",
    "\n",
    "CLASS_PER_PEER = 1\n",
    "SAMPLES_PER_CLASS = 582\n",
    "RATE_UNBALANCE = 1"
   ]
  },
  {
   "cell_type": "code",
   "execution_count": null,
   "metadata": {
    "scrolled": true
   },
   "outputs": [
    {
     "name": "stdout",
     "output_type": "stream",
     "text": [
      "\n",
      "--> Starting experiment...\n",
      "--> Loading of CIFAR10 dataset\n",
      "Files already downloaded and verified\n",
      "Files already downloaded and verified\n",
      "Classes keys and distribution:  {6: 5000, 9: 5000, 4: 5000, 1: 5000, 2: 5000, 7: 5000, 8: 5000, 3: 5000, 5: 5000, 0: 5000}\n",
      "--> Dataset has been loaded!\n",
      "--> Creating ResNet18 model.....\n",
      "--> Model has been created!\n",
      "--> Distributing training data among peers\n",
      "--> Training data have been distributed among peers\n",
      "--> Creating peers instances\n",
      "Data set: CIFAR10\n",
      "Data distribution: NON_IID\n",
      "Aggregation rule: fedavg\n",
      "Attack Type: no_attack\n",
      "Attackers Ratio: 0.0 %\n",
      "Malicious Behavior Rate: 0 %\n",
      "\n",
      "===>Simulation started...\n",
      "\n",
      "====>Global model training started...\n",
      "\n"
     ]
    },
    {
     "data": {
      "application/vnd.jupyter.widget-view+json": {
       "model_id": "da1ded85158748cf8e89b5cad02a417d",
       "version_major": 2,
       "version_minor": 0
      },
      "text/plain": [
       "  0%|          | 0/100 [00:00<?, ?it/s]"
      ]
     },
     "metadata": {},
     "output_type": "display_data"
    },
    {
     "name": "stdout",
     "output_type": "stream",
     "text": [
      "\n",
      " | Global training round : 1/100 |\n",
      "\n"
     ]
    }
   ],
   "source": [
    "# Baseline|: FedAvg-no attacks (FL)\n",
    "RULE = 'fedavg'\n",
    "ATTACK_TYPE='no_attack'\n",
    "MALICIOUS_BEHAVIOR_RATE = 0\n",
    "for atr in [0.0]:\n",
    "    run_exp(dataset_name = DATASET_NAME, model_name = MODEL_NAME, dd_type = DD_TYPE, num_peers = NUM_PEERS, \n",
    "            frac_peers = FRAC_PEERS, seed = SEED, test_batch_size = TEST_BATCH_SIZE,\n",
    "                criterion = CRITERION, global_rounds = GLOBAL_ROUNDS, local_epochs = LOCAL_EPOCHS, local_bs = LOCAL_BS, \n",
    "                 local_lr = LOCAL_LR, local_momentum = LOCAL_MOMENTUM, labels_dict = LABELS_DICT, device = DEVICE,\n",
    "                attackers_ratio = atr, attack_type=ATTACK_TYPE, \n",
    "                 malicious_behavior_rate = MALICIOUS_BEHAVIOR_RATE, rule = RULE,\n",
    "                source_class = SOURCE_CLASS, target_class = TARGET_CLASS,\n",
    "               class_per_peer = CLASS_PER_PEER, samples_per_class = SAMPLES_PER_CLASS, \n",
    "               rate_unbalance = RATE_UNBALANCE, alpha = ALPHA, resume = False)"
   ]
  },
  {
   "cell_type": "code",
   "execution_count": null,
   "metadata": {
    "scrolled": true
   },
   "outputs": [],
   "source": [
    "\n",
    "RULE = 'NeuDFL'\n",
    "ATTACK_TYPE='label_flipping'\n",
    "MALICIOUS_BEHAVIOR_RATE = 1\n",
    "for atr in [0.4]:\n",
    "    run_exp(dataset_name = DATASET_NAME, model_name = MODEL_NAME, dd_type = DD_TYPE, num_peers = NUM_PEERS, \n",
    "            frac_peers = FRAC_PEERS, seed = SEED, test_batch_size = TEST_BATCH_SIZE,\n",
    "                criterion = CRITERION, global_rounds = GLOBAL_ROUNDS, local_epochs = LOCAL_EPOCHS, local_bs = LOCAL_BS, \n",
    "                 local_lr = LOCAL_LR, local_momentum = LOCAL_MOMENTUM, labels_dict = LABELS_DICT, device = DEVICE,\n",
    "  \n",
    "            attackers_ratio = atr, attack_type=ATTACK_TYPE, \n",
    "                 malicious_behavior_rate = MALICIOUS_BEHAVIOR_RATE, rule = RULE,\n",
    "                source_class = SOURCE_CLASS, target_class = TARGET_CLASS,\n",
    "               class_per_peer = CLASS_PER_PEER, samples_per_class = SAMPLES_PER_CLASS, \n",
    "               rate_unbalance = RATE_UNBALANCE, alpha = ALPHA, resume = False)"
   ]
  },
  {
   "cell_type": "code",
   "execution_count": null,
   "metadata": {
    "scrolled": true
   },
   "outputs": [],
   "source": [
    "RULE = 'fedavg'\n",
    "ATTACK_TYPE='label_flipping'\n",
    "MALICIOUS_BEHAVIOR_RATE = 1\n",
    "for atr in [0.4]:\n",
    "    run_exp(dataset_name = DATASET_NAME, model_name = MODEL_NAME, dd_type = DD_TYPE, num_peers = NUM_PEERS, \n",
    "            frac_peers = FRAC_PEERS, seed = SEED, test_batch_size = TEST_BATCH_SIZE,\n",
    "                criterion = CRITERION, global_rounds = GLOBAL_ROUNDS, local_epochs = LOCAL_EPOCHS, local_bs = LOCAL_BS, \n",
    "            \n",
    "                 local_lr = LOCAL_LR, local_momentum = LOCAL_MOMENTUM, labels_dict = LABELS_DICT, device = DEVICE,\n",
    "                attackers_ratio = atr, attack_type=ATTACK_TYPE, \n",
    "                 malicious_behavior_rate = MALICIOUS_BEHAVIOR_RATE, rule = RULE,\n",
    "                source_class = SOURCE_CLASS, target_class = TARGET_CLASS,\n",
    "               class_per_peer = CLASS_PER_PEER, samples_per_class = SAMPLES_PER_CLASS, \n",
    "               rate_unbalance = RATE_UNBALANCE, alpha = ALPHA, resume = False)"
   ]
  },
  {
   "cell_type": "code",
   "execution_count": null,
   "metadata": {},
   "outputs": [],
   "source": [
    "RULE = 'fedavg'\n",
    "ATTACK_TYPE='label_flipping'\n",
    "MALICIOUS_BEHAVIOR_RATE = 1\n",
    "for atr in [0.3]:\n",
    "    run_exp(dataset_name = DATASET_NAME, model_name = MODEL_NAME, dd_type = DD_TYPE, num_peers = NUM_PEERS, \n",
    "            frac_peers = FRAC_PEERS, seed = SEED, test_batch_size = TEST_BATCH_SIZE,\n",
    "                criterion = CRITERION, global_rounds = GLOBAL_ROUNDS, local_epochs = LOCAL_EPOCHS, local_bs = LOCAL_BS, \n",
    "            \n",
    "                 local_lr = LOCAL_LR, local_momentum = LOCAL_MOMENTUM, labels_dict = LABELS_DICT, device = DEVICE,\n",
    "                attackers_ratio = atr, attack_type=ATTACK_TYPE, \n",
    "                 malicious_behavior_rate = MALICIOUS_BEHAVIOR_RATE, rule = RULE,\n",
    "                source_class = SOURCE_CLASS, target_class = TARGET_CLASS,\n",
    "               class_per_peer = CLASS_PER_PEER, samples_per_class = SAMPLES_PER_CLASS, \n",
    "               rate_unbalance = RATE_UNBALANCE, alpha = ALPHA, resume = False)"
   ]
  },
  {
   "cell_type": "code",
   "execution_count": null,
   "metadata": {
    "scrolled": true
   },
   "outputs": [],
   "source": [
    "\n",
    "RULE = 'median'\n",
    "ATTACK_TYPE='label_flipping'\n",
    "MALICIOUS_BEHAVIOR_RATE = 1\n",
    "for atr in [0.4]:\n",
    "    run_exp(dataset_name = DATASET_NAME, model_name = MODEL_NAME, dd_type = DD_TYPE, num_peers = NUM_PEERS, \n",
    "            frac_peers = FRAC_PEERS, seed = SEED, test_batch_size = TEST_BATCH_SIZE,\n",
    "                criterion = CRITERION, global_rounds = GLOBAL_ROUNDS, local_epochs = LOCAL_EPOCHS, local_bs = LOCAL_BS, \n",
    "                 local_lr = LOCAL_LR, local_momentum = LOCAL_MOMENTUM, labels_dict = LABELS_DICT, device = DEVICE,\n",
    "                attackers_ratio = atr, attack_type=ATTACK_TYPE, \n",
    "                 malicious_behavior_rate = MALICIOUS_BEHAVIOR_RATE, rule = RULE,\n",
    "                source_class = SOURCE_CLASS, target_class = TARGET_CLASS,\n",
    "               class_per_peer = CLASS_PER_PEER, samples_per_class = SAMPLES_PER_CLASS, \n",
    "               rate_unbalance = RATE_UNBALANCE, alpha = ALPHA, resume = False)"
   ]
  },
  {
   "cell_type": "code",
   "execution_count": null,
   "metadata": {
    "scrolled": true
   },
   "outputs": [],
   "source": [
    "RULE = 'tmean'\n",
    "ATTACK_TYPE='label_flipping'\n",
    "MALICIOUS_BEHAVIOR_RATE = 1\n",
    "for atr in [0.4]:\n",
    "    run_exp(dataset_name = DATASET_NAME, model_name = MODEL_NAME, dd_type = DD_TYPE, num_peers = NUM_PEERS, \n",
    "            frac_peers = FRAC_PEERS, seed = SEED, test_batch_size = TEST_BATCH_SIZE,\n",
    "                criterion = CRITERION, global_rounds = GLOBAL_ROUNDS, local_epochs = LOCAL_EPOCHS, local_bs = LOCAL_BS, \n",
    "                 local_lr = LOCAL_LR, local_momentum = LOCAL_MOMENTUM, labels_dict = LABELS_DICT, device = DEVICE,\n",
    "                attackers_ratio = atr, attack_type=ATTACK_TYPE, \n",
    "                 malicious_behavior_rate = MALICIOUS_BEHAVIOR_RATE, rule = RULE,\n",
    "                source_class = SOURCE_CLASS, target_class = TARGET_CLASS,\n",
    "               class_per_peer = CLASS_PER_PEER, samples_per_class = SAMPLES_PER_CLASS, \n",
    "               rate_unbalance = RATE_UNBALANCE, alpha = ALPHA, resume = False)"
   ]
  },
  {
   "cell_type": "code",
   "execution_count": null,
   "metadata": {
    "scrolled": true
   },
   "outputs": [],
   "source": [
    "RULE = 'mkrum'\n",
    "ATTACK_TYPE='label_flipping'\n",
    "MALICIOUS_BEHAVIOR_RATE = 1\n",
    "for atr in [0.4]:\n",
    "    run_exp(dataset_name = DATASET_NAME, model_name = MODEL_NAME, dd_type = DD_TYPE, num_peers = NUM_PEERS, \n",
    "            frac_peers = FRAC_PEERS, seed = SEED, test_batch_size = TEST_BATCH_SIZE,\n",
    "                criterion = CRITERION, global_rounds = GLOBAL_ROUNDS, local_epochs = LOCAL_EPOCHS, local_bs = LOCAL_BS, \n",
    "                 local_lr = LOCAL_LR, local_momentum = LOCAL_MOMENTUM, labels_dict = LABELS_DICT, device = DEVICE,\n",
    "                attackers_ratio = atr, attack_type=ATTACK_TYPE, \n",
    "                 malicious_behavior_rate = MALICIOUS_BEHAVIOR_RATE, rule = RULE,\n",
    "                source_class = SOURCE_CLASS, target_class = TARGET_CLASS,\n",
    "               class_per_peer = CLASS_PER_PEER, samples_per_class = SAMPLES_PER_CLASS, \n",
    "               rate_unbalance = RATE_UNBALANCE, alpha = ALPHA, resume = False)"
   ]
  },
  {
   "cell_type": "code",
   "execution_count": null,
   "metadata": {
    "scrolled": true
   },
   "outputs": [],
   "source": [
    "RULE = 'foolsgold'\n",
    "ATTACK_TYPE='label_flipping'\n",
    "MALICIOUS_BEHAVIOR_RATE = 1\n",
    "for atr in [0.4]:\n",
    "    run_exp(dataset_name = DATASET_NAME, model_name = MODEL_NAME, dd_type = DD_TYPE, num_peers = NUM_PEERS, \n",
    "            frac_peers = FRAC_PEERS, seed = SEED, test_batch_size = TEST_BATCH_SIZE,\n",
    "                criterion = CRITERION, global_rounds = GLOBAL_ROUNDS, local_epochs = LOCAL_EPOCHS, local_bs = LOCAL_BS, \n",
    "                 local_lr = LOCAL_LR, local_momentum = LOCAL_MOMENTUM, labels_dict = LABELS_DICT, device = DEVICE,\n",
    "                attackers_ratio = atr, attack_type=ATTACK_TYPE, \n",
    "                 malicious_behavior_rate = MALICIOUS_BEHAVIOR_RATE, rule = RULE,\n",
    "                source_class = SOURCE_CLASS, target_class = TARGET_CLASS,\n",
    "               class_per_peer = CLASS_PER_PEER, samples_per_class = SAMPLES_PER_CLASS, \n",
    "               rate_unbalance = RATE_UNBALANCE, alpha = ALPHA, resume = False)"
   ]
  },
  {
   "cell_type": "code",
   "execution_count": null,
   "metadata": {
    "scrolled": true
   },
   "outputs": [],
   "source": [
    "RULE = 'Tolpegin'\n",
    "ATTACK_TYPE='label_flipping'\n",
    "MALICIOUS_BEHAVIOR_RATE = 1\n",
    "for atr in [0.4]:\n",
    "    run_exp(dataset_name = DATASET_NAME, model_name = MODEL_NAME, dd_type = DD_TYPE, num_peers = NUM_PEERS, \n",
    "            frac_peers = FRAC_PEERS, seed = SEED, test_batch_size = TEST_BATCH_SIZE,\n",
    "                criterion = CRITERION, global_rounds = GLOBAL_ROUNDS, local_epochs = LOCAL_EPOCHS, local_bs = LOCAL_BS, \n",
    "                 local_lr = LOCAL_LR, local_momentum = LOCAL_MOMENTUM, labels_dict = LABELS_DICT, device = DEVICE,\n",
    "                attackers_ratio = atr, attack_type=ATTACK_TYPE, \n",
    "                 malicious_behavior_rate = MALICIOUS_BEHAVIOR_RATE, rule = RULE,\n",
    "                source_class = SOURCE_CLASS, target_class = TARGET_CLASS,\n",
    "               class_per_peer = CLASS_PER_PEER, samples_per_class = SAMPLES_PER_CLASS, \n",
    "               rate_unbalance = RATE_UNBALANCE, alpha = ALPHA, resume = False)"
   ]
  },
  {
   "cell_type": "code",
   "execution_count": null,
   "metadata": {
    "scrolled": true
   },
   "outputs": [],
   "source": [
    "RULE = 'FLAME'\n",
    "ATTACK_TYPE='label_flipping'\n",
    "MALICIOUS_BEHAVIOR_RATE = 1\n",
    "for atr in [0.4]:\n",
    "    run_exp(dataset_name = DATASET_NAME, model_name = MODEL_NAME, dd_type = DD_TYPE, num_peers = NUM_PEERS, \n",
    "            frac_peers = FRAC_PEERS, seed = SEED, test_batch_size = TEST_BATCH_SIZE,\n",
    "                criterion = CRITERION, global_rounds = GLOBAL_ROUNDS, local_epochs = LOCAL_EPOCHS, local_bs = LOCAL_BS, \n",
    "                 local_lr = LOCAL_LR, local_momentum = LOCAL_MOMENTUM, labels_dict = LABELS_DICT, device = DEVICE,\n",
    "                attackers_ratio = atr, attack_type=ATTACK_TYPE, \n",
    "                 malicious_behavior_rate = MALICIOUS_BEHAVIOR_RATE, rule = RULE,\n",
    "                source_class = SOURCE_CLASS, target_class = TARGET_CLASS,\n",
    "               class_per_peer = CLASS_PER_PEER, samples_per_class = SAMPLES_PER_CLASS, \n",
    "               rate_unbalance = RATE_UNBALANCE, alpha = ALPHA, resume = False)"
   ]
  },
  {
   "cell_type": "code",
   "execution_count": null,
   "metadata": {
    "scrolled": true
   },
   "outputs": [],
   "source": [
    "RULE = 'lfighter'\n",
    "ATTACK_TYPE='label_flipping'\n",
    "\n",
    "MALICIOUS_BEHAVIOR_RATE = 1\n",
    "for atr in [0.2]:\n",
    "    run_exp(dataset_name = DATASET_NAME, model_name = MODEL_NAME, dd_type = DD_TYPE, num_peers = NUM_PEERS, \n",
    "            frac_peers = FRAC_PEERS, seed = SEED, test_batch_size = TEST_BATCH_SIZE,\n",
    "                criterion = CRITERION, global_rounds = GLOBAL_ROUNDS, local_epochs = LOCAL_EPOCHS, local_bs = LOCAL_BS, \n",
    "                 local_lr = LOCAL_LR, local_momentum = LOCAL_MOMENTUM, labels_dict = LABELS_DICT, device = DEVICE,\n",
    "                attackers_ratio = atr, attack_type=ATTACK_TYPE, \n",
    "                 malicious_behavior_rate = MALICIOUS_BEHAVIOR_RATE, rule = RULE,\n",
    "                source_class = SOURCE_CLASS, target_class = TARGET_CLASS,\n",
    "               class_per_peer = CLASS_PER_PEER, samples_per_class = SAMPLES_PER_CLASS, \n",
    "               rate_unbalance = RATE_UNBALANCE, alpha = ALPHA, resume = False)"
   ]
  },
  {
   "cell_type": "code",
   "execution_count": null,
   "metadata": {},
   "outputs": [],
   "source": [
    "print(dir(datasets))"
   ]
  },
  {
   "cell_type": "code",
   "execution_count": null,
   "metadata": {},
   "outputs": [],
   "source": [
    "np.__version__\n",
    "print(tf.__version__)"
   ]
  },
  {
   "cell_type": "code",
   "execution_count": null,
   "metadata": {},
   "outputs": [],
   "source": []
  }
 ],
 "metadata": {
  "kernelspec": {
   "display_name": "Python 3 (ipykernel)",
   "language": "python",
   "name": "python3"
  },
  "language_info": {
   "codemirror_mode": {
    "name": "ipython",
    "version": 3
   },
   "file_extension": ".py",
   "mimetype": "text/x-python",
   "name": "python",
   "nbconvert_exporter": "python",
   "pygments_lexer": "ipython3",
   "version": "3.8.18"
  }
 },
 "nbformat": 4,
 "nbformat_minor": 4
}
